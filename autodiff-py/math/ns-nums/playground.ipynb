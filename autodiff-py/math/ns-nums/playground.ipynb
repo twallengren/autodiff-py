{
 "cells": [
  {
   "cell_type": "code",
   "execution_count": 3,
   "metadata": {},
   "outputs": [],
   "source": [
    "from infinitesimal import Infinitesimal\n",
    "from real import Real\n",
    "from nonstandard import Nonstandard"
   ]
  },
  {
   "cell_type": "code",
   "execution_count": 4,
   "metadata": {},
   "outputs": [
    {
     "name": "stdout",
     "output_type": "stream",
     "text": [
      "RE: 2.0\n",
      "RE: 3.0\n",
      "INF: 4.0e\n",
      "INF: 5.0e\n",
      "NS: 2.0+4.0e\n",
      "NS: 2.0+5.0e\n",
      "NS: 3.0+4.0e\n",
      "NS: 3.0+5.0e\n"
     ]
    }
   ],
   "source": [
    "re1 = Real(2.0)\n",
    "re2 = Real(3.0)\n",
    "inf1 = Infinitesimal(4.0)\n",
    "inf2 = Infinitesimal(5.0)\n",
    "ns1 = Nonstandard(re1, inf1)\n",
    "ns2 = Nonstandard(re1, inf2)\n",
    "ns3 = Nonstandard(re2, inf1)\n",
    "ns4 = Nonstandard(re2, inf2)\n",
    "print(re1)\n",
    "print(re2)\n",
    "print(inf1)\n",
    "print(inf2)\n",
    "print(ns1)\n",
    "print(ns2)\n",
    "print(ns3)\n",
    "print(ns4)"
   ]
  },
  {
   "cell_type": "code",
   "execution_count": 5,
   "metadata": {},
   "outputs": [
    {
     "name": "stdout",
     "output_type": "stream",
     "text": [
      "RE: 5.0\n",
      "INF: 9.0e\n",
      "NS: 2.0+4.0e\n",
      "NS: 3.0+4.0e\n",
      "NS: 2.0+5.0e\n",
      "NS: 3.0+5.0e\n"
     ]
    }
   ],
   "source": [
    "sumReal = re1+re2\n",
    "sumInf = inf1+inf2\n",
    "sumMix1 = inf1+re1\n",
    "sumMix2 = inf1+re2\n",
    "sumMix3 = inf2+re1\n",
    "sumMix4 = inf2+re2\n",
    "print(sumReal)\n",
    "print(sumInf)\n",
    "print(sumMix1)\n",
    "print(sumMix2)\n",
    "print(sumMix3)\n",
    "print(sumMix4)"
   ]
  },
  {
   "cell_type": "code",
   "execution_count": 6,
   "metadata": {},
   "outputs": [
    {
     "name": "stdout",
     "output_type": "stream",
     "text": [
      "RE: 6.0\n",
      "RE: 0.0\n",
      "INF: 8.0e\n",
      "INF: 12.0e\n",
      "INF: 10.0e\n",
      "INF: 15.0e\n"
     ]
    }
   ],
   "source": [
    "prodReal = re1*re2\n",
    "prodInf = inf1*inf2\n",
    "prodMix1 = inf1*re1\n",
    "prodMix2 = inf1*re2\n",
    "prodMix3 = inf2*re1\n",
    "prodMix4 = inf2*re2\n",
    "print(prodReal)\n",
    "print(prodInf)\n",
    "print(prodMix1)\n",
    "print(prodMix2)\n",
    "print(prodMix3)\n",
    "print(prodMix4)"
   ]
  },
  {
   "cell_type": "code",
   "execution_count": 7,
   "metadata": {},
   "outputs": [
    {
     "name": "stdout",
     "output_type": "stream",
     "text": [
      "NS: 5.0+8.0e\n",
      "NS: 6.0+20.0e\n"
     ]
    }
   ],
   "source": [
    "print(sumMix1+sumMix2)\n",
    "print(sumMix1*sumMix2)"
   ]
  },
  {
   "cell_type": "code",
   "execution_count": null,
   "metadata": {},
   "outputs": [],
   "source": []
  }
 ],
 "metadata": {
  "kernelspec": {
   "display_name": "Python 3",
   "language": "python",
   "name": "python3"
  },
  "language_info": {
   "codemirror_mode": {
    "name": "ipython",
    "version": 3
   },
   "file_extension": ".py",
   "mimetype": "text/x-python",
   "name": "python",
   "nbconvert_exporter": "python",
   "pygments_lexer": "ipython3",
   "version": "3.8.3"
  }
 },
 "nbformat": 4,
 "nbformat_minor": 4
}
